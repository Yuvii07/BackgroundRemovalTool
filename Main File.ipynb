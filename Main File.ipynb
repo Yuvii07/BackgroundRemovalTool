{
 "cells": [
  {
   "cell_type": "code",
   "execution_count": 23,
   "id": "d52c7826",
   "metadata": {},
   "outputs": [
    {
     "name": "stderr",
     "output_type": "stream",
     "text": [
      "Resizing and Converting to Grayscale: 100%|█████████████████████████████| 35/35 [00:03<00:00,  9.51it/s, file=whim.png]\n"
     ]
    }
   ],
   "source": [
    "import os\n",
    "import cv2\n",
    "from tqdm import tqdm\n",
    "\n",
    "# Set input and output paths\n",
    "input_path = os.path.join(os.getcwd(), 'Input_Images')\n",
    "output_path = os.path.join(os.getcwd(), 'Output_Images')\n",
    "\n",
    "# Create output directory if it doesn't exist\n",
    "if not os.path.exists(output_path):\n",
    "    os.mkdir(output_path)\n",
    "\n",
    "# Create final directory if it doesn't exist\n",
    "if not os.path.exists(final_path):\n",
    "    os.mkdir(final_path)\n",
    "\n",
    "# Get list of image files in input directory\n",
    "image_files = [f for f in os.listdir(input_path) if f.lower().endswith(('.png', '.jpg', '.jpeg', '.jfif'))]\n",
    "\n",
    "# Initialize progress bar\n",
    "pbar = tqdm(total=len(image_files), desc='Resizing and Converting to Grayscale')\n",
    "\n",
    "# Loop through each image file in input directory and process it\n",
    "for file_name in image_files:\n",
    "    # Read image file\n",
    "    img_path = os.path.join(input_path, file_name)\n",
    "    img = cv2.imread(img_path, cv2.IMREAD_GRAYSCALE)\n",
    "\n",
    "    # Check if image file was read successfully\n",
    "    if img is not None:\n",
    "        # Resize the image to 80% of its original size\n",
    "        height, width = img.shape[:2]\n",
    "        new_height = int(height * 0.8)\n",
    "        new_width = int(width * 0.8)\n",
    "        img = cv2.resize(img, (new_width, new_height))\n",
    "\n",
    "        # Save the processed image to output directory\n",
    "        output_file_name = os.path.splitext(file_name)[0] + '_processed.png'\n",
    "        output_file_path = os.path.join(output_path, output_file_name)\n",
    "        cv2.imwrite(output_file_path, img)\n",
    "\n",
    "        # Convert the image to RGB format and save to final directory\n",
    "        img_rgb = cv2.cvtColor(img, cv2.COLOR_GRAY2RGB)\n",
    "        final_file_path = os.path.join(final_path, output_file_name)\n",
    "        cv2.imwrite(final_file_path, img_rgb)\n",
    "\n",
    "        # Update progress bar\n",
    "        pbar.update(1)\n",
    "        pbar.set_postfix({'file': file_name})\n",
    "\n",
    "    else:\n",
    "        print(f\"Error reading image: {file_name}\")\n",
    "\n",
    "# Close progress bar\n",
    "pbar.close()\n"
   ]
  },
  {
   "cell_type": "code",
   "execution_count": 1,
   "id": "d943fa12",
   "metadata": {},
   "outputs": [
    {
     "name": "stderr",
     "output_type": "stream",
     "text": [
      "Removing Background: 100%|█████████████████████████████████████████████████████████████| 35/35 [02:26<00:00,  4.18s/it]\n"
     ]
    }
   ],
   "source": [
    "import os\n",
    "from rembg import remove\n",
    "from tqdm import tqdm\n",
    "\n",
    "input_folder = r\"path/to/input/folder\"\n",
    "output_folder = r\"path/to/output/folder\"\n",
    "\n",
    "def remove_background(input_file):\n",
    "    # Construct the output file path\n",
    "    output_file = os.path.join(output_folder, os.path.basename(input_file))\n",
    "    \n",
    "    # Load input image\n",
    "    with open(input_file, \"rb\") as f:\n",
    "        img_data = f.read()\n",
    "    \n",
    "    # Perform background removal\n",
    "    img_data = remove(img_data)\n",
    "    \n",
    "    # Save output image\n",
    "    with open(output_file, \"wb\") as f:\n",
    "        f.write(img_data)\n",
    "\n",
    "# Count the number of input files\n",
    "num_files = sum(1 for file_name in os.listdir(input_folder) if file_name.endswith(\".jpg\") or file_name.endswith(\".png\"))\n",
    "\n",
    "# Initialize the progress bar\n",
    "with tqdm(total=num_files, desc=\"Removing Background\") as pbar:\n",
    "    # Loop through each input file\n",
    "    for file_name in os.listdir(input_folder):\n",
    "        if file_name.endswith(\".jpg\") or file_name.endswith(\".png\"):\n",
    "            input_file = os.path.join(input_folder, file_name)\n",
    "            # Process the image\n",
    "            remove_background(input_file)\n",
    "            # Update the progress bar\n",
    "            pbar.update(1)\n"
   ]
  },
  {
   "cell_type": "code",
   "execution_count": null,
   "id": "b73b9cec",
   "metadata": {},
   "outputs": [],
   "source": []
  }
 ],
 "metadata": {
  "kernelspec": {
   "display_name": "Python 3 (ipykernel)",
   "language": "python",
   "name": "python3"
  },
  "language_info": {
   "codemirror_mode": {
    "name": "ipython",
    "version": 3
   },
   "file_extension": ".py",
   "mimetype": "text/x-python",
   "name": "python",
   "nbconvert_exporter": "python",
   "pygments_lexer": "ipython3",
   "version": "3.8.16"
  }
 },
 "nbformat": 4,
 "nbformat_minor": 5
}
